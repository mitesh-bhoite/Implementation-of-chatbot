{
  "metadata": {
    "kernelspec": {
      "name": "python",
      "display_name": "Python (Pyodide)",
      "language": "python"
    },
    "language_info": {
      "codemirror_mode": {
        "name": "python",
        "version": 3
      },
      "file_extension": ".py",
      "mimetype": "text/x-python",
      "name": "python",
      "nbconvert_exporter": "python",
      "pygments_lexer": "ipython3",
      "version": "3.8"
    }
  },
  "nbformat_minor": 4,
  "nbformat": 4,
  "cells": [
    {
      "cell_type": "code",
      "source": "import os\nimport json\nimport datetime\nimport csv\nimport nltk\nimport ssl\nimport streamlit as st\nimport random\nfrom sklearn.feature_extraction.text import TfidfVectorizer\nfrom sklearn.linear_model import LogisticRegression\n\nssl._create_default_https_context = ssl._create_unverified_context\nnltk.data.path.append(os.path.abspath(\"nltk_data\"))\nnltk.download('punkt')\n\n# Load intents from the JSON file\nfile_path = os.path.abspath(\"./intents.json\")\nwith open(file_path, \"r\") as file:\n    intents = json.load(file)\n\n# Create the vectorizer and classifier\nvectorizer = TfidfVectorizer(ngram_range=(1, 4))\nclf = LogisticRegression(random_state=0, max_iter=10000)\n\n# Preprocess the data\ntags = []\npatterns = []\nfor intent in intents:\n    for pattern in intent['patterns']:\n        tags.append(intent['tag'])\n        patterns.append(pattern)\n\n# training the model\nx = vectorizer.fit_transform(patterns)\ny = tags\nclf.fit(x, y)\n\ndef chatbot(input_text):\n    input_text = vectorizer.transform([input_text])\n    tag = clf.predict(input_text)[0]\n    for intent in intents:\n        if intent['tag'] == tag:\n            response = random.choice(intent['responses'])\n            return response\n        \ncounter = 0\n\ndef main():\n    global counter\n    st.title(\"Intents of Chatbot using NLP\")\n\n    # Create a sidebar menu with options\n    menu = [\"Home\", \"Conversation History\", \"About\"]\n    choice = st.sidebar.selectbox(\"Menu\", menu)\n\n    # Home Menu\n    if choice == \"Home\":\n        st.write(\"Welcome to the chatbot. Please type a message and press Enter to start the conversation.\")\n\n        # Check if the chat_log.csv file exists, and if not, create it with column names\n        if not os.path.exists('chat_log.csv'):\n            with open('chat_log.csv', 'w', newline='', encoding='utf-8') as csvfile:\n                csv_writer = csv.writer(csvfile)\n                csv_writer.writerow(['User Input', 'Chatbot Response', 'Timestamp'])\n\n        counter += 1\n        user_input = st.text_input(\"You:\", key=f\"user_input_{counter}\")\n\n        if user_input:\n\n            # Convert the user input to a string\n            user_input_str = str(user_input)\n\n            response = chatbot(user_input)\n            st.text_area(\"Chatbot:\", value=response, height=120, max_chars=None, key=f\"chatbot_response_{counter}\")\n\n            # Get the current timestamp\n            timestamp = datetime.datetime.now().strftime(f\"%Y-%m-%d %H:%M:%S\")\n\n            # Save the user input and chatbot response to the chat_log.csv file\n            with open('chat_log.csv', 'a', newline='', encoding='utf-8') as csvfile:\n                csv_writer = csv.writer(csvfile)\n                csv_writer.writerow([user_input_str, response, timestamp])\n\n            if response.lower() in ['goodbye', 'bye']:\n                st.write(\"Thank you for chatting with me. Have a great day!\")\n                st.stop()\n\n    # Conversation History Menu\n    elif choice == \"Conversation History\":\n        # Display the conversation history in a collapsible expander\n        st.header(\"Conversation History\")\n        # with st.beta_expander(\"Click to see Conversation History\"):\n        with open('chat_log.csv', 'r', encoding='utf-8') as csvfile:\n            csv_reader = csv.reader(csvfile)\n            next(csv_reader)  # Skip the header row\n            for row in csv_reader:\n                st.text(f\"User: {row[0]}\")\n                st.text(f\"Chatbot: {row[1]}\")\n                st.text(f\"Timestamp: {row[2]}\")\n                st.markdown(\"---\")\n\n    elif choice == \"About\":\n        st.write(\"The goal of this project is to create a chatbot that can understand and respond to user input based on intents. The chatbot is built using Natural Language Processing (NLP) library and Logistic Regression, to extract the intents and entities from user input. The chatbot is built using Streamlit, a Python library for building interactive web applications.\")\n\n        st.subheader(\"Project Overview:\")\n\n        st.write(\"\"\"\n        The project is divided into two parts:\n        1. NLP techniques and Logistic Regression algorithm is used to train the chatbot on labeled intents and entities.\n        2. For building the Chatbot interface, Streamlit web framework is used to build a web-based chatbot interface. The interface allows users to input text and receive responses from the chatbot.\n        \"\"\")\n\n        st.subheader(\"Dataset:\")\n\n        st.write(\"\"\"\n        The dataset used in this project is a collection of labelled intents and entities. The data is stored in a list.\n        - Intents: The intent of the user input (e.g. \"greeting\", \"budget\", \"about\")\n        - Entities: The entities extracted from user input (e.g. \"Hi\", \"How do I create a budget?\", \"What is your purpose?\")\n        - Text: The user input text.\n        \"\"\")\n\n        st.subheader(\"Streamlit Chatbot Interface:\")\n\n        st.write(\"The chatbot interface is built using Streamlit. The interface includes a text input box for users to input their text and a chat window to display the chatbot's responses. The interface uses the trained model to generate responses to user input.\")\n\n        st.subheader(\"Conclusion:\")\n\n        st.write(\"In this project, a chatbot is built that can understand and respond to user input based on intents. The chatbot was trained using NLP and Logistic Regression, and the interface was built using Streamlit. This project can be extended by adding more data, using more sophisticated NLP techniques, deep learning algorithms.\")\n\nif __name__ == '__main__':\n    main()",
      "metadata": {
        "trusted": true
      },
      "outputs": [
        {
          "ename": "<class 'ModuleNotFoundError'>",
          "evalue": "No module named 'streamlit'",
          "traceback": [
            "\u001b[0;31m---------------------------------------------------------------------------\u001b[0m",
            "\u001b[0;31mModuleNotFoundError\u001b[0m                       Traceback (most recent call last)",
            "Cell \u001b[0;32mIn[1], line 7\u001b[0m\n\u001b[1;32m      5\u001b[0m \u001b[38;5;28;01mimport\u001b[39;00m \u001b[38;5;21;01mnltk\u001b[39;00m\n\u001b[1;32m      6\u001b[0m \u001b[38;5;28;01mimport\u001b[39;00m \u001b[38;5;21;01mssl\u001b[39;00m\n\u001b[0;32m----> 7\u001b[0m \u001b[38;5;28;01mimport\u001b[39;00m \u001b[38;5;21;01mstreamlit\u001b[39;00m \u001b[38;5;28;01mas\u001b[39;00m \u001b[38;5;21;01mst\u001b[39;00m\n\u001b[1;32m      8\u001b[0m \u001b[38;5;28;01mimport\u001b[39;00m \u001b[38;5;21;01mrandom\u001b[39;00m\n\u001b[1;32m      9\u001b[0m \u001b[38;5;28;01mfrom\u001b[39;00m \u001b[38;5;21;01msklearn\u001b[39;00m\u001b[38;5;21;01m.\u001b[39;00m\u001b[38;5;21;01mfeature_extraction\u001b[39;00m\u001b[38;5;21;01m.\u001b[39;00m\u001b[38;5;21;01mtext\u001b[39;00m \u001b[38;5;28;01mimport\u001b[39;00m TfidfVectorizer\n",
            "\u001b[0;31mModuleNotFoundError\u001b[0m: No module named 'streamlit'"
          ],
          "output_type": "error"
        }
      ],
      "execution_count": 1
    },
    {
      "cell_type": "code",
      "source": "",
      "metadata": {
        "trusted": true
      },
      "outputs": [],
      "execution_count": null
    }
  ]
}